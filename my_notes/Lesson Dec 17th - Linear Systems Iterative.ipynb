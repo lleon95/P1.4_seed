{
 "cells": [
  {
   "cell_type": "code",
   "execution_count": null,
   "metadata": {},
   "outputs": [],
   "source": [
    "# Preparing"
   ]
  },
  {
   "cell_type": "code",
   "execution_count": 2,
   "metadata": {},
   "outputs": [],
   "source": [
    "%matplotlib inline\n",
    "from numpy import *\n",
    "from matplotlib.pyplot import *\n",
    "\n",
    "n = 33\n",
    "h = 1./(n-1)\n",
    "\n",
    "x=linspace(0,1,n)\n",
    "\n",
    "a = -ones((n-1,)) # Offdiagonal entries\n",
    "b = 2*ones((n,)) # Diagonal entries\n",
    "A = (diag(a, -1) + diag(b, 0) + diag(a, +1))\n",
    "A /= h**2\n",
    "f = x*(1.-x)\n",
    "\n",
    "# Change first row of the matrix A\n",
    "A[0,:] = 0\n",
    "A[:,0] = 0\n",
    "A[0,0] = 1\n",
    "f[0] = 0\n",
    "\n",
    "# Change last row of the matrix A\n",
    "A[-1,:] = 0\n",
    "A[:,-1] = 0\n",
    "A[-1,-1] = 1\n",
    "f[-1] = 0\n",
    "\n",
    "# Solution by direct method\n",
    "u = linalg.solve(A, f)"
   ]
  },
  {
   "cell_type": "code",
   "execution_count": null,
   "metadata": {},
   "outputs": [],
   "source": []
  },
  {
   "cell_type": "markdown",
   "metadata": {},
   "source": [
    "# Jacobi \n",
    "\n",
    "$$ \n",
    "x_i^{k+1} = \\frac{1}{A_{ii}} \\times \\left(b_i - \\sum_{j\\neq i} a_{ij}x_j^k\\right)\n",
    "$$\n"
   ]
  },
  {
   "cell_type": "code",
   "execution_count": 7,
   "metadata": {},
   "outputs": [
    {
     "name": "stdout",
     "output_type": "stream",
     "text": [
      "Done with:  4777\n",
      "9.682097967515382e-11\n"
     ]
    }
   ],
   "source": [
    "def jacobi(A, b, nmax=10000, eps=1e-10):\n",
    "    cnt = 0\n",
    "    n_unknown = len(A) # Number of incognites\n",
    "    # Extract the diagonal and residual\n",
    "    D_inv = zeros((n_unknown, n_unknown))\n",
    "    R = array(A)\n",
    "    tol = eps + 1\n",
    "    for i in range(n_unknown):\n",
    "        D_inv[i][i] = 1.0/A[i][i]\n",
    "        R[i][i] = 0\n",
    "    x_i = zeros_like(b)\n",
    "    while cnt < nmax and tol > eps:\n",
    "        x_i_n = D_inv.dot(b - R.dot(x_i))\n",
    "        # Stopping by accomplishing the epsilon in all vars\n",
    "        res = b - A.dot(x_i_n)\n",
    "        tol = linalg.norm(res,2)\n",
    "        x_i = x_i_n.copy()\n",
    "        cnt += 1\n",
    "    print(\"Done with: \", cnt)\n",
    "    return x_i\n",
    "\n",
    "sol_jacobi = jacobi(A, f)\n",
    "print(linalg.norm(sol_jacobi - u)/linalg.norm(u))"
   ]
  },
  {
   "cell_type": "markdown",
   "metadata": {},
   "source": [
    "## Gauss-Seidel\n",
    "\n",
    "$$ \n",
    "x_i^{k+1} = \\frac{1}{A_{ii}} \\times \\left(b_i - \\sum_{j=0}^{i-1} a_{ij}x_j^{k+1} - \\sum_{j=i+1}^{N} a_{ij}x_j^k\\right)\n",
    "$$"
   ]
  },
  {
   "cell_type": "code",
   "execution_count": 29,
   "metadata": {},
   "outputs": [
    {
     "name": "stdout",
     "output_type": "stream",
     "text": [
      "Done with:  2390\n",
      "9.577313808022264e-11\n"
     ]
    }
   ],
   "source": [
    "def gauss_seidel(A,b,nmax=10000, eps=1e-10):\n",
    "    cnt = 0\n",
    "    n_unknown = len(A) # Number of incognites\n",
    "    # Extract the diagonal and residual\n",
    "    D = diag(A)\n",
    "    D_inv = 1/D\n",
    "    tol = eps + 1\n",
    "    # Buffer\n",
    "    x = zeros_like(b)\n",
    "    x_new = zeros_like(b)\n",
    "    while cnt < nmax and tol > eps:\n",
    "        for i in range(n_unknown):\n",
    "            x_new[i] = D_inv[i] * (b[i] - dot(A[i][:i],x_new[:i]) - dot(A[i][i+1:n_unknown],x[i+1:n_unknown]))\n",
    "        # Stop condition\n",
    "        res = b - dot(A,x_new)\n",
    "        tol = linalg.norm(res,2)\n",
    "        x = x_new.copy()\n",
    "        cnt += 1\n",
    "    print(\"Done with: \", cnt)\n",
    "    return x\n",
    "\n",
    "sol_gauss_seidel = gauss_seidel(A, f)\n",
    "print(linalg.norm(sol_gauss_seidel - u)/linalg.norm(u))"
   ]
  },
  {
   "cell_type": "markdown",
   "metadata": {},
   "source": [
    "   ## Gradient method\n",
    "   $$\n",
    "   {\\bf r}^k = {\\bf b} - A {\\bf x}^k\n",
    "   $$\n",
    "   \n",
    "   $$\n",
    "   \\alpha^k = \\frac{{\\bf r}^{k^{T}} {\\bf r}^k}{{\\bf r}^{k^{T}} A{\\bf r}^k}\n",
    "   $$\n",
    "   \n",
    "   $$\n",
    "   {\\bf x}^{k+1} = {\\bf x}^k + \\alpha^k {\\bf r}^k\n",
    "   $$\n",
    "   \n",
    "   ### Preconditioned gradient method\n",
    "   $$\n",
    "   P{\\bf z}^k =  {\\bf r}^k\n",
    "   $$\n",
    "   \n",
    "   $$\n",
    "   \\alpha^k = \\frac{{\\bf z}^{k^{T}} {\\bf r}^k}{{\\bf z}^{k^{T}} A{\\bf z}^k}\n",
    "   $$\n",
    " \n",
    "   $$\n",
    "   {\\bf x}^{k+1} = {\\bf x}^k + \\alpha^k {\\bf z}^k\n",
    "   $$ \n",
    "   \n",
    "   $$\n",
    "   {\\bf r}^{k+1} = {\\bf r}^k  - \\alpha^k A{\\bf z}^k\n",
    "   $$"
   ]
  },
  {
   "cell_type": "code",
   "execution_count": 34,
   "metadata": {},
   "outputs": [
    {
     "name": "stdout",
     "output_type": "stream",
     "text": [
      "Done with:  3909\n",
      "7.095304299230852e-11\n",
      "Done with:  1\n",
      "2.6880576072308357e-15\n"
     ]
    }
   ],
   "source": [
    "def gradient(A, b, P, nmax=8000, eps=1e-10):\n",
    "    X = zeros_like(b)\n",
    "    X_n = zeros_like(b)\n",
    "    R = b - A.dot(X)\n",
    "    cnt = 0\n",
    "    tol = eps + 1\n",
    "    while cnt < nmax and tol > eps:\n",
    "        Z = linalg.solve(P,R)\n",
    "        alpha = (Z.T.dot(R)) / (Z.T.dot(A).dot(Z))\n",
    "        X += alpha * Z\n",
    "        R -= alpha * A.dot(Z)\n",
    "        # Stop\n",
    "        tol = linalg.norm(R,2)\n",
    "        cnt += 1\n",
    "    print(\"Done with: \", cnt)\n",
    "    return X\n",
    "\n",
    "sol_gradient = gradient(A, f, identity(len(A)))\n",
    "print(linalg.norm(sol_gradient - u)/linalg.norm(u))\n",
    "sol_preconditioned_gradient = gradient(A, f, A)\n",
    "print(linalg.norm(sol_preconditioned_gradient - u)/linalg.norm(u))"
   ]
  },
  {
   "cell_type": "code",
   "execution_count": null,
   "metadata": {},
   "outputs": [],
   "source": []
  }
 ],
 "metadata": {
  "kernelspec": {
   "display_name": "Python 3",
   "language": "python",
   "name": "python3"
  },
  "language_info": {
   "codemirror_mode": {
    "name": "ipython",
    "version": 3
   },
   "file_extension": ".py",
   "mimetype": "text/x-python",
   "name": "python",
   "nbconvert_exporter": "python",
   "pygments_lexer": "ipython3",
   "version": "3.6.8"
  }
 },
 "nbformat": 4,
 "nbformat_minor": 4
}
