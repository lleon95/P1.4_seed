{
 "cells": [
  {
   "cell_type": "code",
   "execution_count": 1,
   "metadata": {},
   "outputs": [
    {
     "name": "stdout",
     "output_type": "stream",
     "text": [
      "Populating the interactive namespace from numpy and matplotlib\n"
     ]
    }
   ],
   "source": [
    "%pylab inline"
   ]
  },
  {
   "cell_type": "markdown",
   "metadata": {},
   "source": [
    "# Interpolation tutorial\n",
    "\n",
    "We have a function _f_ continuous between $[0,1]$; with `n+1` points where I am going to evaluate the function.\n",
    "\n",
    "_Problem:_ Given $f_n$, can we reconstruct the function `f`?\n",
    "\n",
    "So, given $(f(q_c), f(q_m))$, find $f^{~}$, s.t. $f^{~}(q_i) = f(q_i)$\n",
    "\n",
    "## Linearity\n",
    "\n",
    "```math\n",
    "F(v+w) = F(v) + F(w)\n",
    "F(aw) = aF(v)\n",
    "```\n",
    "\n",
    "Evaluation is a linear question:\n",
    "\n",
    "$\n",
    "eval(f+g) = (f+g)(q_o)+(f+g)(q_1)+...+(f+g)(q_n)\n",
    "          = f(q_o)+f(q_1)+...+f(q_n) + g(q_o)+g(q_1)+...+g(q_n)\n",
    "$\n",
    "\n",
    "Therefore:\n",
    "\n",
    "$eval(f+g) = eval(f)+eval(g)$\n",
    "\n",
    "With this, we can represent evaluations as matrices, because of its linearity. So:\n",
    "\n",
    "$P^n \\rightarrow^{A} IR^{n+1}$\n",
    "$P^n \\leftarrow^{A^{-1}} IR^{n+1}$\n",
    "\n",
    "where A is the evaluation operation.\n",
    "\n",
    "--------------------------\n",
    "\n",
    "If we have the following points: $q_o = 0, q_1 = 1.5, q_o = 1$ and the polinomial $2x^2+3x+1$, leading to:\n",
    "\n",
    "$eval(2x^2+3x+1) = (1,3,6)$\n",
    "\n",
    "This can be represented as:\n",
    "\n",
    "```math\n",
    "(0 0 1; 0.25 0.5 1; 1 1 1)(2; 3; 1) = (1,3,6)\n",
    "```\n",
    "\n",
    "Where the first matrix is the evaluation of `x`. It is possible to invert that matrix in order to get the coefficients. \n",
    "\n",
    "However, it is not good-performant using the $A^{-1}$\n",
    "\n",
    "There is a polinomial which is `(1,3,6)`, whose evaluation is `(1,3,6)`. With this trick, we can make $A=I$. So, the inverse becomes irrelevant.\n",
    "\n",
    "-------------------------------\n",
    "\n",
    "Consider we have a new set of points $q_0, q_1,..., q_n$ and $e_0, e_1,..., e_n$\n",
    "\n",
    "To go from $f(q_0) \\rightarrow f(e_0)$, we perform evaluation and in the other way arround, we use interpolation.\n",
    "\n",
    "However, performing evaluation by substituting $x$ on the polinomial is a way less performant. You can use _evaluation linearity_ in order to get it in a more efficient way.\n",
    "\n",
    "$eval((1,3,6))=eval((1,0,0))+3eval((0,1,0))+6eval((0,0,1))$\n",
    "\n",
    "With \n",
    "\n",
    "$(1,0,0) = \\frac{(x-\\frac{1}{2})(x-1)}{(0-\\frac{1}{2})(0-1)}$\n",
    "\n",
    "$(0,1,0) = \\frac{(x-0)(x-1)}{(\\frac{1}{2}-0)(\\frac{1}{2}-1)}$\n",
    "\n",
    "Which is the _Lagrange_ evaluation\n",
    "\n",
    "We can evaluate the polinomial by: $x(2x+3)+1$, which is still more performant than $2x^2 + 3x + 1$."
   ]
  },
  {
   "cell_type": "markdown",
   "metadata": {},
   "source": [
    "_Interpolation and approximation are not the same_. We can approximate without interpolating or viceversa.\n",
    "\n",
    "Having more points for interpolating the function, and then approximate, you can have cathastrophic oscillations, which can lead to worse errors.\n",
    "\n",
    "**Why interpolation fails when we have more points?**\n",
    "\n",
    "The error is bound by:\n",
    "\n",
    "* The polinomial space is small\n",
    "* Taking a non-optimal polinomial\n",
    "\n",
    "However, having greater polinomial order can worse the error, because the space is wider. It is harder to get the optimal polinomial."
   ]
  },
  {
   "cell_type": "markdown",
   "metadata": {},
   "source": [
    "# Exercises"
   ]
  },
  {
   "cell_type": "markdown",
   "metadata": {},
   "source": [
    "### Lagrangian\n",
    "\n",
    "$L = \\frac{(x-q_0)(x-q_1)...(x-q_n)}{(q_i-q_0)(q_i-q_1)...(q_i-q_n)}$\n",
    "\n",
    "In this case, $x = e$"
   ]
  },
  {
   "cell_type": "code",
   "execution_count": 17,
   "metadata": {},
   "outputs": [],
   "source": [
    "# We want to have the lagrange evaluation when:\n",
    "# p0 -> (1,0,...,0)\n",
    "# p1 -> (0,1,...,0)\n",
    "# Create a table with B[i,j] = p_j(e_i), where e_i are the evaluation points given above\n",
    "def generate_lagrange_basis(q, e):\n",
    "    \"\"\"\n",
    "    q: array of interpolation points. I already know the function\n",
    "    e: array of evaluation points. I would like to get the values of the function\n",
    "    \"\"\"\n",
    "    assert len(q.shape) == 1\n",
    "    assert len(e.shape) == 1\n",
    "    \n",
    "    n_evaluation_points = e.shape[0]\n",
    "    n_interpolation_points = q.shape[0]\n",
    "    \n",
    "    basis = np.ones((n_evaluation_points, n_interpolation_points), dtype=float64)\n",
    "    \n",
    "    for i in range(n_evaluation_points):\n",
    "        for j in range(n_interpolation_points):\n",
    "            for k in range(n_interpolation_points):\n",
    "            # Evaluation of the polinomial\n",
    "                if j == k:\n",
    "                    # Avoid zero div\n",
    "                    continue\n",
    "                basis[i,j] *= ((e[i]-q[k])/(q[j]-q[k]))\n",
    "    return basis"
   ]
  },
  {
   "cell_type": "code",
   "execution_count": 42,
   "metadata": {},
   "outputs": [],
   "source": [
    "# Test numbers\n",
    "q = np.linspace(0,1,10) # We know the function at these points\n",
    "e = np.linspace(0,1,5) # We would like to know the function at these points\n",
    "\n",
    "# Generate lagrange polinomial\n",
    "generate_lagrange_basis(q,e)"
   ]
  },
  {
   "cell_type": "code",
   "execution_count": 43,
   "metadata": {},
   "outputs": [],
   "source": [
    "# The columns are the lagrangian polinomial for a given q\n",
    "# The rows are the evaluations of the lagrangian polinomial"
   ]
  },
  {
   "cell_type": "code",
   "execution_count": 44,
   "metadata": {},
   "outputs": [
    {
     "data": {
      "text/plain": [
       "array([0.        , 0.11111111, 0.22222222, 0.33333333, 0.44444444,\n",
       "       0.55555556, 0.66666667, 0.77777778, 0.88888889, 1.        ])"
      ]
     },
     "execution_count": 44,
     "metadata": {},
     "output_type": "execute_result"
    }
   ],
   "source": [
    "q"
   ]
  },
  {
   "cell_type": "code",
   "execution_count": 45,
   "metadata": {},
   "outputs": [
    {
     "data": {
      "text/plain": [
       "array([0.  , 0.25, 0.5 , 0.75, 1.  ])"
      ]
     },
     "execution_count": 45,
     "metadata": {},
     "output_type": "execute_result"
    }
   ],
   "source": [
    "e"
   ]
  },
  {
   "cell_type": "code",
   "execution_count": 46,
   "metadata": {},
   "outputs": [],
   "source": [
    "def interpolate_function(f,q,e):\n",
    "    \"\"\"\n",
    "    f: function to interpolate\n",
    "    q: known points\n",
    "    e: evaluation to recreate the function\n",
    "    \"\"\"\n",
    "    basis = generate_lagrange_basis(q,e)\n",
    "    \n",
    "    n_evaluation_points = e.shape[0]\n",
    "    n_interpolation_points = q.shape[0]\n",
    "    \n",
    "    y = np.zeros((n_evaluation_points,1))\n",
    "    \n",
    "    # We want to apply evaluation's linearity \n",
    "    # eval(1,3,6) = eval(1,0,0)+3eval(0,1,0)+6eval(0,0,1)\n",
    "    # We have them in the basis\n",
    "    # 1,3,6 are q_i\n",
    "    \n",
    "    for i in range(n_evaluation_points):\n",
    "        for j in range(n_interpolation_points):\n",
    "            y[i] += f(q[j]) * basis[i,j]\n",
    "    return y"
   ]
  },
  {
   "cell_type": "code",
   "execution_count": 70,
   "metadata": {},
   "outputs": [],
   "source": [
    "# Function to test\n",
    "def sine_f(x):\n",
    "    return (np.tan(2*np.pi*x)+x*2*x)"
   ]
  },
  {
   "cell_type": "code",
   "execution_count": 73,
   "metadata": {},
   "outputs": [],
   "source": [
    "# Test\n",
    "e = np.linspace(0,1,30)\n",
    "q = np.linspace(0,1,30)\n",
    "y_i = interpolate_function(sine_f, q, e)"
   ]
  },
  {
   "cell_type": "code",
   "execution_count": 74,
   "metadata": {},
   "outputs": [
    {
     "data": {
      "text/plain": [
       "[<matplotlib.lines.Line2D at 0x7f05b8c29eb8>]"
      ]
     },
     "execution_count": 74,
     "metadata": {},
     "output_type": "execute_result"
    },
    {
     "data": {
      "image/png": "[encoded data removed]",
      "text/plain": [
       "<Figure size 432x288 with 1 Axes>"
      ]
     },
     "metadata": {
      "needs_background": "light"
     },
     "output_type": "display_data"
    }
   ],
   "source": [
    "plot(e, sine_f(e))\n",
    "plot(e, y_i)\n",
    "plot(q, sine_f(q), 'o')\n",
    "\n",
    "# Increase the number of known points (q), we have a better approximation"
   ]
  },
  {
   "cell_type": "code",
   "execution_count": 36,
   "metadata": {},
   "outputs": [
    {
     "data": {
      "text/plain": [
       "array([0.        , 0.03448276, 0.06896552, 0.10344828, 0.13793103,\n",
       "       0.17241379, 0.20689655, 0.24137931, 0.27586207, 0.31034483,\n",
       "       0.34482759, 0.37931034, 0.4137931 , 0.44827586, 0.48275862,\n",
       "       0.51724138, 0.55172414, 0.5862069 , 0.62068966, 0.65517241,\n",
       "       0.68965517, 0.72413793, 0.75862069, 0.79310345, 0.82758621,\n",
       "       0.86206897, 0.89655172, 0.93103448, 0.96551724, 1.        ])"
      ]
     },
     "execution_count": 36,
     "metadata": {},
     "output_type": "execute_result"
    }
   ],
   "source": []
  },
  {
   "cell_type": "code",
   "execution_count": null,
   "metadata": {},
   "outputs": [],
   "source": []
  }
 ],
 "metadata": {
  "kernelspec": {
   "display_name": "Python 3",
   "language": "python",
   "name": "python3"
  },
  "language_info": {
   "codemirror_mode": {
    "name": "ipython",
    "version": 3
   },
   "file_extension": ".py",
   "mimetype": "text/x-python",
   "name": "python",
   "nbconvert_exporter": "python",
   "pygments_lexer": "ipython3",
   "version": "3.6.8"
  }
 },
 "nbformat": 4,
 "nbformat_minor": 2
}
