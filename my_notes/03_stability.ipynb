{
  "nbformat": 4,
  "nbformat_minor": 0,
  "metadata": {
    "colab": {
      "name": "03_stability.ipynb",
      "provenance": [],
      "collapsed_sections": []
    },
    "kernelspec": {
      "name": "python3",
      "display_name": "Python 3"
    }
  },
  "cells": [
    {
      "cell_type": "code",
      "metadata": {
        "id": "GuM8slNnEZMV",
        "colab_type": "code",
        "outputId": "d8c5a118-11e5-40c2-f173-6651a3ad5e1b",
        "colab": {
          "base_uri": "https://localhost:8080/",
          "height": 34
        }
      },
      "source": [
        "%pylab inline"
      ],
      "execution_count": 3,
      "outputs": [
        {
          "output_type": "stream",
          "text": [
            "Populating the interactive namespace from numpy and matplotlib\n"
          ],
          "name": "stdout"
        }
      ]
    },
    {
      "cell_type": "code",
      "metadata": {
        "id": "kaxE-3kZFKCQ",
        "colab_type": "code",
        "colab": {}
      },
      "source": [
        "N = 2**6+1"
      ],
      "execution_count": 0,
      "outputs": []
    },
    {
      "cell_type": "markdown",
      "metadata": {
        "id": "o3ATjvyVFkdi",
        "colab_type": "text"
      },
      "source": [
        "**Roundoff** VS **Truncation**\n"
      ]
    },
    {
      "cell_type": "code",
      "metadata": {
        "id": "CKevLbzYFPLl",
        "colab_type": "code",
        "colab": {
          "base_uri": "https://localhost:8080/",
          "height": 243
        },
        "outputId": "b5299d5f-2aa6-4950-fb1c-19158d74bf61"
      },
      "source": [
        "x = linspace(0.995,1,N)\n",
        "x"
      ],
      "execution_count": 5,
      "outputs": [
        {
          "output_type": "execute_result",
          "data": {
            "text/plain": [
              "array([0.995     , 0.99507813, 0.99515625, 0.99523438, 0.9953125 ,\n",
              "       0.99539062, 0.99546875, 0.99554687, 0.995625  , 0.99570313,\n",
              "       0.99578125, 0.99585937, 0.9959375 , 0.99601562, 0.99609375,\n",
              "       0.99617188, 0.99625   , 0.99632813, 0.99640625, 0.99648437,\n",
              "       0.9965625 , 0.99664062, 0.99671875, 0.99679688, 0.996875  ,\n",
              "       0.99695312, 0.99703125, 0.99710937, 0.9971875 , 0.99726563,\n",
              "       0.99734375, 0.99742188, 0.9975    , 0.99757812, 0.99765625,\n",
              "       0.99773437, 0.9978125 , 0.99789063, 0.99796875, 0.99804688,\n",
              "       0.998125  , 0.99820312, 0.99828125, 0.99835938, 0.9984375 ,\n",
              "       0.99851563, 0.99859375, 0.99867187, 0.99875   , 0.99882812,\n",
              "       0.99890625, 0.99898438, 0.9990625 , 0.99914063, 0.99921875,\n",
              "       0.99929687, 0.999375  , 0.99945313, 0.99953125, 0.99960938,\n",
              "       0.9996875 , 0.99976562, 0.99984375, 0.99992187, 1.        ])"
            ]
          },
          "metadata": {
            "tags": []
          },
          "execution_count": 5
        }
      ]
    },
    {
      "cell_type": "code",
      "metadata": {
        "id": "z6zcQrZnFybH",
        "colab_type": "code",
        "outputId": "b611b979-881e-4979-a39b-5d9d981976a9",
        "colab": {
          "base_uri": "https://localhost:8080/",
          "height": 293
        }
      },
      "source": [
        "plot(x, (1-x)**6)"
      ],
      "execution_count": 6,
      "outputs": [
        {
          "output_type": "execute_result",
          "data": {
            "text/plain": [
              "[<matplotlib.lines.Line2D at 0x7fd227f10cc0>]"
            ]
          },
          "metadata": {
            "tags": []
          },
          "execution_count": 6
        },
        {
          "output_type": "display_data",
          "data": {
            "image/png": "[encoded data removed]",
            "text/plain": [
              "<Figure size 432x288 with 1 Axes>"
            ]
          },
          "metadata": {
            "tags": []
          }
        }
      ]
    },
    {
      "cell_type": "code",
      "metadata": {
        "id": "N7DLKnjMF1Vn",
        "colab_type": "code",
        "colab": {}
      },
      "source": [
        "import sympy"
      ],
      "execution_count": 0,
      "outputs": []
    },
    {
      "cell_type": "code",
      "metadata": {
        "id": "2iVy5gBNF6h-",
        "colab_type": "code",
        "outputId": "1bf5493a-a76b-445d-8dca-509875495058",
        "colab": {
          "base_uri": "https://localhost:8080/",
          "height": 34
        }
      },
      "source": [
        "X = sympy.var('x')\n",
        "sympy.expand((1-X)**6)"
      ],
      "execution_count": 9,
      "outputs": [
        {
          "output_type": "execute_result",
          "data": {
            "text/plain": [
              "x**6 - 6*x**5 + 15*x**4 - 20*x**3 + 15*x**2 - 6*x + 1"
            ]
          },
          "metadata": {
            "tags": []
          },
          "execution_count": 9
        }
      ]
    },
    {
      "cell_type": "code",
      "metadata": {
        "id": "fmc13noaF_v9",
        "colab_type": "code",
        "outputId": "0fb8f334-da6b-4b62-9054-7eb76e5b8941",
        "colab": {
          "base_uri": "https://localhost:8080/",
          "height": 293
        }
      },
      "source": [
        "x = linspace(0.995,1,N)\n",
        "plot(x, x**6 - 6*x**5 + 15*x**4 - 20*x**3 + 15*x**2 - 6*x + 1)"
      ],
      "execution_count": 10,
      "outputs": [
        {
          "output_type": "execute_result",
          "data": {
            "text/plain": [
              "[<matplotlib.lines.Line2D at 0x7fd22456cbe0>]"
            ]
          },
          "metadata": {
            "tags": []
          },
          "execution_count": 10
        },
        {
          "output_type": "display_data",
          "data": {
            "image/png": "[encoded data removed]",
            "text/plain": [
              "<Figure size 432x288 with 1 Axes>"
            ]
          },
          "metadata": {
            "tags": []
          }
        }
      ]
    },
    {
      "cell_type": "code",
      "metadata": {
        "id": "A9_xq6NtGkop",
        "colab_type": "code",
        "colab": {
          "base_uri": "https://localhost:8080/",
          "height": 34
        },
        "outputId": "70a0fe1b-a5e2-4525-e61e-060a61366f0b"
      },
      "source": [
        "0.1 + 1e1"
      ],
      "execution_count": 15,
      "outputs": [
        {
          "output_type": "execute_result",
          "data": {
            "text/plain": [
              "10.1"
            ]
          },
          "metadata": {
            "tags": []
          },
          "execution_count": 15
        }
      ]
    },
    {
      "cell_type": "code",
      "metadata": {
        "id": "JH5n6itWtMRA",
        "colab_type": "code",
        "colab": {
          "base_uri": "https://localhost:8080/",
          "height": 34
        },
        "outputId": "ef03d03a-4db5-4297-e82a-2e62ded32a49"
      },
      "source": [
        "# Generate a matrix filled by random numbers\n",
        "A = random.random((50,50))\n",
        "A.shape\n",
        "\n",
        "# Condition\n",
        "K = linalg.cond(A)\n",
        "K"
      ],
      "execution_count": 26,
      "outputs": [
        {
          "output_type": "execute_result",
          "data": {
            "text/plain": [
              "6425.95212569317"
            ]
          },
          "metadata": {
            "tags": []
          },
          "execution_count": 26
        }
      ]
    },
    {
      "cell_type": "code",
      "metadata": {
        "id": "AV94qOWAt9Vg",
        "colab_type": "code",
        "colab": {
          "base_uri": "https://localhost:8080/",
          "height": 34
        },
        "outputId": "b84fda82-ebdc-4651-b7f9-a9e0e174114f"
      },
      "source": [
        "estimated_k = 0\n",
        "\n",
        "for i in range(1000):\n",
        "  # Generate for calculating the relative condition\n",
        "  x = random.random((50,1))\n",
        "  norm_x = linalg.norm(x)\n",
        "\n",
        "  # Generate a random perturbation\n",
        "  dx = random.random((50,1))\n",
        "  norm_dx = linalg.norm(dx)\n",
        "\n",
        "  # y = A*x\n",
        "  y = A.dot(x)\n",
        "  norm_y = linalg.norm(y)\n",
        "\n",
        "  # We want this number as small as possible dy = A*dx (linearity cond)\n",
        "  norm_dy = linalg.norm(A.dot(dx))\n",
        "\n",
        "  linalg.norm(x), normy\n",
        "\n",
        "  # How much risk. If condition number is small, small changes, larger, changes \n",
        "  # are larger\n",
        "  kx = (norm_dy/norm_y) / (norm_dx/norm_x)\n",
        "  estimated_k = max(estimated_k, kx)\n",
        "  https://www.ibm.com/support/knowledgecenter/SSGH2K_13.1.0/com.ibm.xlc131.aix.doc/compiler_ref/ruomprun4.html\n",
        "estimated_k\n",
        "\n",
        "# SNR = 1/Cond\n",
        "# Cond what to expect in the output (perturbed). We want low Cond Numbers\n",
        "\n",
        "# A 0.97, 1.11 are OK condition numbers, 1.11 is not too much though\n"
      ],
      "execution_count": 42,
      "outputs": [
        {
          "output_type": "execute_result",
          "data": {
            "text/plain": [
              "1.113891659098594"
            ]
          },
          "metadata": {
            "tags": []
          },
          "execution_count": 42
        }
      ]
    },
    {
      "cell_type": "code",
      "metadata": {
        "id": "NrYBypb8yK4W",
        "colab_type": "code",
        "colab": {
          "base_uri": "https://localhost:8080/",
          "height": 121
        },
        "outputId": "817757aa-c137-44f2-e431-63da7c744867"
      },
      "source": [
        "kx, norm_x, norm_y, norm_dx, norm_dy, K"
      ],
      "execution_count": 39,
      "outputs": [
        {
          "output_type": "execute_result",
          "data": {
            "text/plain": [
              "(1.0267967643393592,\n",
              " 3.8536094983926534,\n",
              " 80.43863421314661,\n",
              " 3.4551111330988666,\n",
              " 74.05314314362683,\n",
              " 6425.95212569317)"
            ]
          },
          "metadata": {
            "tags": []
          },
          "execution_count": 39
        }
      ]
    },
    {
      "cell_type": "markdown",
      "metadata": {
        "id": "qA4-wZXxZweR",
        "colab_type": "text"
      },
      "source": [
        "Now we try to estimate truncation errors"
      ]
    },
    {
      "cell_type": "code",
      "metadata": {
        "id": "jYwfs-_TZzM3",
        "colab_type": "code",
        "colab": {}
      },
      "source": [
        "def FD(f, x, dx):\n",
        "  return (f(x+dx)-f(x))/dx"
      ],
      "execution_count": 0,
      "outputs": []
    },
    {
      "cell_type": "code",
      "metadata": {
        "id": "4KRdFfOaZ_At",
        "colab_type": "code",
        "colab": {}
      },
      "source": [
        "N = 2**6+1\n",
        "x = linspace(0,1,N)"
      ],
      "execution_count": 0,
      "outputs": []
    },
    {
      "cell_type": "code",
      "metadata": {
        "id": "F9dqFO_5aG97",
        "colab_type": "code",
        "colab": {}
      },
      "source": [
        "\n",
        "def myf(x):\n",
        "  return sin(pi*x)\n",
        "\n",
        "y = myf\n",
        "yprime = cos(pi*x)*pi\n",
        "\n",
        "# Approx\n",
        "fd = FD(y,x,1)"
      ],
      "execution_count": 0,
      "outputs": []
    },
    {
      "cell_type": "code",
      "metadata": {
        "id": "PXKxPbcl8rFd",
        "colab_type": "code",
        "colab": {}
      },
      "source": [
        "# Banach is a space of objects. You can take elements and have linear... The results will remain in the space\n",
        "# Collection of objects where is possible to measure them\n",
        "\n",
        "def supnorm(f):\n",
        "  return max(f)\n",
        "\n",
        "supnorm(yprime)"
      ],
      "execution_count": 0,
      "outputs": []
    },
    {
      "cell_type": "code",
      "metadata": {
        "id": "NGirvN6i41xZ",
        "colab_type": "code",
        "colab": {
          "base_uri": "https://localhost:8080/",
          "height": 290
        },
        "outputId": "9f927e9c-12f6-4c1b-f158-25a52650e66a"
      },
      "source": [
        "#plot(x,yprime, 'ro')\n",
        "\n",
        "dxs = []\n",
        "errors = []\n",
        "\n",
        "for i in range(2,61):\n",
        "  dx = 2**(-i)\n",
        "  dxs.append(dx)\n",
        "  FDprime = FD(myf,x,2**(-i))\n",
        "  #plot(x,FDprime)\n",
        "  error = supnorm(yprime-FDprime)\n",
        "  errors.append(error)\n",
        "  \n",
        "# The step (perturbation) vs the error acquired\n",
        "loglog(dxs, errors)"
      ],
      "execution_count": 78,
      "outputs": [
        {
          "output_type": "execute_result",
          "data": {
            "text/plain": [
              "[<matplotlib.lines.Line2D at 0x7fd223d845f8>]"
            ]
          },
          "metadata": {
            "tags": []
          },
          "execution_count": 78
        },
        {
          "output_type": "display_data",
          "data": {
            "image/png": "[encoded data removed]",
            "text/plain": [
              "<Figure size 432x288 with 1 Axes>"
            ]
          },
          "metadata": {
            "tags": []
          }
        }
      ]
    },
    {
      "cell_type": "code",
      "metadata": {
        "id": "rVBSWVZZaMmq",
        "colab_type": "code",
        "colab": {}
      },
      "source": [
        "# The error decreases at 1e-8. Then, we are getting truncating errors. \n",
        "# Before that point, we get precision errors"
      ],
      "execution_count": 0,
      "outputs": []
    },
    {
      "cell_type": "code",
      "metadata": {
        "id": "0to5Mdpg8Co_",
        "colab_type": "code",
        "colab": {}
      },
      "source": [
        ""
      ],
      "execution_count": 0,
      "outputs": []
    }
  ]
}