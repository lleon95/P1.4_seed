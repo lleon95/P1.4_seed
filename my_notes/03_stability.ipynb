{
  "nbformat": 4,
  "nbformat_minor": 0,
  "metadata": {
    "colab": {
      "name": "03_stability.ipynb",
      "provenance": []
    },
    "kernelspec": {
      "name": "python3",
      "display_name": "Python 3"
    }
  },
  "cells": [
    {
      "cell_type": "code",
      "metadata": {
        "id": "GuM8slNnEZMV",
        "colab_type": "code",
        "outputId": "77286138-efb8-44ba-dcc2-152faef1e133",
        "colab": {
          "base_uri": "https://localhost:8080/",
          "height": 34
        }
      },
      "source": [
        "%pylab inline"
      ],
      "execution_count": 0,
      "outputs": [
        {
          "output_type": "stream",
          "text": [
            "Populating the interactive namespace from numpy and matplotlib\n"
          ],
          "name": "stdout"
        }
      ]
    },
    {
      "cell_type": "code",
      "metadata": {
        "id": "kaxE-3kZFKCQ",
        "colab_type": "code",
        "colab": {}
      },
      "source": [
        "N = 2**6+1"
      ],
      "execution_count": 0,
      "outputs": []
    },
    {
      "cell_type": "markdown",
      "metadata": {
        "id": "o3ATjvyVFkdi",
        "colab_type": "text"
      },
      "source": [
        "**Roundoff** VS **Truncation**\n"
      ]
    },
    {
      "cell_type": "code",
      "metadata": {
        "id": "CKevLbzYFPLl",
        "colab_type": "code",
        "colab": {}
      },
      "source": [
        "x = linspace(0.995,1,N)"
      ],
      "execution_count": 0,
      "outputs": []
    },
    {
      "cell_type": "code",
      "metadata": {
        "id": "z6zcQrZnFybH",
        "colab_type": "code",
        "outputId": "375b481b-d408-40dc-fac1-9bef8b76daba",
        "colab": {
          "base_uri": "https://localhost:8080/",
          "height": 293
        }
      },
      "source": [
        "plot(x, (1-x)**6)"
      ],
      "execution_count": 0,
      "outputs": [
        {
          "output_type": "execute_result",
          "data": {
            "text/plain": [
              "[<matplotlib.lines.Line2D at 0x7f43de6ebf98>]"
            ]
          },
          "metadata": {
            "tags": []
          },
          "execution_count": 17
        },
        {
          "output_type": "display_data",
          "data": {
            "image/png": "[encoded data removed]",
            "text/plain": [
              "<Figure size 432x288 with 1 Axes>"
            ]
          },
          "metadata": {
            "tags": []
          }
        }
      ]
    },
    {
      "cell_type": "code",
      "metadata": {
        "id": "N7DLKnjMF1Vn",
        "colab_type": "code",
        "colab": {}
      },
      "source": [
        "import sympy"
      ],
      "execution_count": 0,
      "outputs": []
    },
    {
      "cell_type": "code",
      "metadata": {
        "id": "2iVy5gBNF6h-",
        "colab_type": "code",
        "outputId": "4b28041f-eb80-457c-e5ab-5e88d02e4ed2",
        "colab": {
          "base_uri": "https://localhost:8080/",
          "height": 34
        }
      },
      "source": [
        "X = sympy.var('x')\n",
        "sympy.expand((1-X)**6)"
      ],
      "execution_count": 0,
      "outputs": [
        {
          "output_type": "execute_result",
          "data": {
            "text/plain": [
              "x**6 - 6*x**5 + 15*x**4 - 20*x**3 + 15*x**2 - 6*x + 1"
            ]
          },
          "metadata": {
            "tags": []
          },
          "execution_count": 8
        }
      ]
    },
    {
      "cell_type": "code",
      "metadata": {
        "id": "fmc13noaF_v9",
        "colab_type": "code",
        "outputId": "e55decfe-ec8f-457a-8b4a-af5768ed6cb2",
        "colab": {
          "base_uri": "https://localhost:8080/",
          "height": 293
        }
      },
      "source": [
        "x = linspace(0.995,1,N)\n",
        "plot(x, x**6 - 6*x**5 + 15*x**4 - 20*x**3 + 15*x**2 - 6*x + 1)"
      ],
      "execution_count": 0,
      "outputs": [
        {
          "output_type": "execute_result",
          "data": {
            "text/plain": [
              "[<matplotlib.lines.Line2D at 0x7f43de7935f8>]"
            ]
          },
          "metadata": {
            "tags": []
          },
          "execution_count": 15
        },
        {
          "output_type": "display_data",
          "data": {
            "image/png": "[encoded data removed]",
            "text/plain": [
              "<Figure size 432x288 with 1 Axes>"
            ]
          },
          "metadata": {
            "tags": []
          }
        }
      ]
    },
    {
      "cell_type": "code",
      "metadata": {
        "id": "A9_xq6NtGkop",
        "colab_type": "code",
        "colab": {}
      },
      "source": [
        ""
      ],
      "execution_count": 0,
      "outputs": []
    },
    {
      "cell_type": "markdown",
      "metadata": {
        "id": "qA4-wZXxZweR",
        "colab_type": "text"
      },
      "source": [
        "Now we try to estimate truncation errors"
      ]
    },
    {
      "cell_type": "code",
      "metadata": {
        "id": "jYwfs-_TZzM3",
        "colab_type": "code",
        "colab": {}
      },
      "source": [
        "def FD(f, x, dx):\n",
        "  return (f(x+dx)-f(x))/dx"
      ],
      "execution_count": 0,
      "outputs": []
    },
    {
      "cell_type": "code",
      "metadata": {
        "id": "4KRdFfOaZ_At",
        "colab_type": "code",
        "colab": {}
      },
      "source": [
        "x = linspace(0,1,N)"
      ],
      "execution_count": 0,
      "outputs": []
    },
    {
      "cell_type": "code",
      "metadata": {
        "id": "F9dqFO_5aG97",
        "colab_type": "code",
        "colab": {}
      },
      "source": [
        "y = sin(pi*x)"
      ],
      "execution_count": 0,
      "outputs": []
    },
    {
      "cell_type": "code",
      "metadata": {
        "id": "rVBSWVZZaMmq",
        "colab_type": "code",
        "outputId": "5225a9a8-3575-4112-b9f8-293e6db109b1",
        "colab": {
          "base_uri": "https://localhost:8080/",
          "height": 286
        }
      },
      "source": [
        "plot(x,y)"
      ],
      "execution_count": 0,
      "outputs": [
        {
          "output_type": "execute_result",
          "data": {
            "text/plain": [
              "[<matplotlib.lines.Line2D at 0x7f43de2d2438>]"
            ]
          },
          "metadata": {
            "tags": []
          },
          "execution_count": 24
        },
        {
          "output_type": "display_data",
          "data": {
            "image/png": "[encoded data removed]",
            "text/plain": [
              "<Figure size 432x288 with 1 Axes>"
            ]
          },
          "metadata": {
            "tags": []
          }
        }
      ]
    },
    {
      "cell_type": "code",
      "metadata": {
        "id": "K6dUNVWZaNW6",
        "colab_type": "code",
        "colab": {}
      },
      "source": [
        "FD(lambda x: sin(pi*x), )"
      ],
      "execution_count": 0,
      "outputs": []
    }
  ]
}