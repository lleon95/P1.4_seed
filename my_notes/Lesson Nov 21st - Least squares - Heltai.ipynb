{
 "cells": [
  {
   "cell_type": "code",
   "execution_count": 1,
   "metadata": {},
   "outputs": [
    {
     "name": "stdout",
     "output_type": "stream",
     "text": [
      "Populating the interactive namespace from numpy and matplotlib\n"
     ]
    }
   ],
   "source": [
    "%pylab inline"
   ]
  },
  {
   "cell_type": "code",
   "execution_count": 2,
   "metadata": {},
   "outputs": [],
   "source": [
    "# Fix our dataset\n",
    "N_data_points = 1000\n",
    "x = linspace(0, 1, N_data_points) # Domain\n",
    "y = sin(2*pi*x)                   # Codomain"
   ]
  },
  {
   "cell_type": "markdown",
   "metadata": {},
   "source": [
    "# Least squares\n",
    "\n",
    "We can use different basis. Usually, we use monomials or polinomials, but they are generalistic."
   ]
  },
  {
   "cell_type": "code",
   "execution_count": 3,
   "metadata": {},
   "outputs": [
    {
     "data": {
      "text/plain": [
       "[<matplotlib.lines.Line2D at 0x7f92a9f317f0>,\n",
       " <matplotlib.lines.Line2D at 0x7f92a9f319e8>,\n",
       " <matplotlib.lines.Line2D at 0x7f92a9f31b38>,\n",
       " <matplotlib.lines.Line2D at 0x7f92a9f31c88>,\n",
       " <matplotlib.lines.Line2D at 0x7f92a9f31dd8>,\n",
       " <matplotlib.lines.Line2D at 0x7f92a9f31f28>,\n",
       " <matplotlib.lines.Line2D at 0x7f92a9f400b8>]"
      ]
     },
     "execution_count": 3,
     "metadata": {},
     "output_type": "execute_result"
    },
    {
     "data": {
      "image/png": "[encoded data removed]",
      "text/plain": [
       "<Figure size 432x288 with 1 Axes>"
      ]
     },
     "metadata": {
      "needs_background": "light"
     },
     "output_type": "display_data"
    }
   ],
   "source": [
    "# Polinomial\n",
    "degree = 6\n",
    "basis  = zeros((N_data_points, degree + 1)) # Vectorised N_data_points (rows)\n",
    "\n",
    "for d in range(degree + 1):\n",
    "    basis[:,d] = x**d\n",
    "\n",
    "# Our basis\n",
    "plot(x, basis)"
   ]
  },
  {
   "cell_type": "markdown",
   "metadata": {},
   "source": [
    "We have $y_i, i=1,...,\\text{N_data_points}$. \n",
    "\n",
    "Now, we would like:\n",
    "\n",
    "* Solve the problem: find $p$ in $P^{d}$, such that $p$ is at \"minimal distance from data points\"\n",
    "\n",
    "$p = \\sum_{i=0}^{d} b_i \\cdot p_i$\n",
    "\n",
    "$b$ is basis, where $b_i := x^i$\n",
    "\n",
    "$d$ is degree\n",
    "\n",
    "## Loss function\n",
    "\n",
    "It is the distance (or error) from your approximation and the dataset\n",
    "\n",
    "$$\n",
    "\\text{Loss} = \\frac{1}{2} \\sum_{i=1}^{\\text{N_data_points}} |p(x_i) - y_i|^2\n",
    "= \\frac{1}{2} \\sum_{i=1}^{\\text{N_data_points}} |\\sum_{j=0}^{d} p_j \\cdot b_j(x_i) - y_i|^2\n",
    "$$\n",
    "\n",
    "In the case of *least squares*, the *loss function* tries to minimise the $L_2$ norm. We can rewrite in term of matrices:\n",
    "\n",
    "$$\n",
    "\\text{Loss} = \\frac{1}{2N} \\lVert B \\cdot p - Y \\rVert_{l_2}^{2}\n",
    "$$\n",
    "\n",
    "where $B$ is the basis, $p$ is the polinomial vector (unknown) and $Y$ are our values.\n",
    "\n",
    "We want *Loss* to be minimum.\n",
    "\n",
    "To do so, we want to find the minimum argument of:\n",
    "\n",
    "$$\n",
    "\\text{ArgMin}(\\text{Loss}(p))\n",
    "$$\n",
    "\n",
    "We will have a quadratic behaviour. The minimum of the function is our minimum Loss. So, to find the optimal $p$, we need to equalise the derivative of the function to zero.\n",
    "\n",
    "$$\n",
    "\\frac{\\partial}{\\partial p_i} \\frac{1}{2} \\sum_k \\sum_j | B_{kj} p_j - y_k |^2\n",
    "$$\n",
    "\n",
    "$$\n",
    "= \\sum_k ( \\frac{\\partial}{\\partial p_i} \\sum_j (B_{kj} p_j - y_k )) \\cdot \\sum_k \\sum_j | B_{kj} p_j - y_k |\n",
    "$$\n",
    "\n",
    "\n",
    "where \n",
    "\n",
    "$$\n",
    "\\sum_k ( \\frac{\\partial}{\\partial p_i} \\sum_j (B_{kj} p_j - y_k )) = B_{ki}\n",
    "$$\n",
    "\n",
    "So\n",
    "\n",
    "$$\n",
    "\\frac{\\partial}{\\partial p_i} \\frac{1}{2} \\sum_k \\sum_j | B_{kj} p_j - y_k |^2 = \\sum_k \\sum_j | B_{kj} p_j - y_k | \\cdot B_{ki}\n",
    "$$\n",
    "\n",
    "It can be rewritten as:\n",
    "\n",
    "$$\n",
    "\\frac{\\partial L}{\\partial p_i} = B^T BP - B^T Y = 0\n",
    "$$\n",
    "\n",
    "The solution:\n",
    "\n",
    "$$\n",
    "P = (B^T B)^{-1} B^T Y\n",
    "$$\n",
    "\n",
    "*Left inverse of B*: $(B^T B)^{-1}$\n",
    "\n",
    "We cannot invert a rectangular matrix unless we are in the spae spanned by the matrix itself: So we multiply by the tranposition. This leads to the *image of B*"
   ]
  },
  {
   "cell_type": "code",
   "execution_count": 4,
   "metadata": {},
   "outputs": [],
   "source": [
    "# Representation of the loss:\n",
    "\n",
    "def Loss(p, y):\n",
    "    return .5 * (basis.dot(p) - y).dot(basis.dot(p) - y)\n",
    "\n",
    "# If we have the identity, we are done, but the following becomes meaningless\n",
    "BtB = basis.T.dot(basis)\n",
    "\n",
    "# Basis evaluated at Y - projection on the basis space of your DATA\n",
    "BtY = basis.T.dot(y)"
   ]
  },
  {
   "cell_type": "code",
   "execution_count": 5,
   "metadata": {},
   "outputs": [
    {
     "data": {
      "text/plain": [
       "(7,)"
      ]
     },
     "execution_count": 5,
     "metadata": {},
     "output_type": "execute_result"
    }
   ],
   "source": [
    "BtY.shape"
   ]
  },
  {
   "cell_type": "code",
   "execution_count": 6,
   "metadata": {},
   "outputs": [],
   "source": [
    "# Neural network of one layer and five nodes\n",
    "# Linear activation\n",
    "# --------------------\n",
    "# Most of the times, we apply regression but changing basis functions\n",
    "# Backward propagation uses this way of Loss minimisation"
   ]
  },
  {
   "cell_type": "code",
   "execution_count": 7,
   "metadata": {},
   "outputs": [
    {
     "data": {
      "text/plain": [
       "9.601694439531627e-15"
      ]
     },
     "execution_count": 7,
     "metadata": {},
     "output_type": "execute_result"
    }
   ],
   "source": [
    "# To get the average (DC value)\n",
    "one = basis[:,0]\n",
    "DC = one.T.dot(y)\n",
    "# It is almost zero because the DC value of a sine is 0\n",
    "DC"
   ]
  },
  {
   "cell_type": "code",
   "execution_count": 8,
   "metadata": {},
   "outputs": [
    {
     "data": {
      "text/plain": [
       "1000.0"
      ]
     },
     "execution_count": 8,
     "metadata": {},
     "output_type": "execute_result"
    }
   ],
   "source": [
    "# The sum of all the values\n",
    "one.T.dot(one)\n",
    "# In this case, is N"
   ]
  },
  {
   "cell_type": "code",
   "execution_count": 9,
   "metadata": {},
   "outputs": [
    {
     "data": {
      "text/plain": [
       "9.601694439531628e-18"
      ]
     },
     "execution_count": 9,
     "metadata": {},
     "output_type": "execute_result"
    }
   ],
   "source": [
    "# To compute p\n",
    "p = (one.T.dot(y))/(one.T.dot(one))\n",
    "p"
   ]
  },
  {
   "cell_type": "code",
   "execution_count": 10,
   "metadata": {},
   "outputs": [
    {
     "data": {
      "text/plain": [
       "[<matplotlib.lines.Line2D at 0x7f9279799278>]"
      ]
     },
     "execution_count": 10,
     "metadata": {},
     "output_type": "execute_result"
    },
    {
     "data": {
      "image/png": "[encoded data removed]",
      "text/plain": [
       "<Figure size 432x288 with 1 Axes>"
      ]
     },
     "metadata": {
      "needs_background": "light"
     },
     "output_type": "display_data"
    }
   ],
   "source": [
    "# Evaluation with a constant:\n",
    "plot(x, one.dot(p))   # We are getting just the DC approximation\n",
    "plot(x,y)"
   ]
  },
  {
   "cell_type": "code",
   "execution_count": 11,
   "metadata": {},
   "outputs": [
    {
     "data": {
      "text/plain": [
       "<matplotlib.legend.Legend at 0x7f9279099cc0>"
      ]
     },
     "execution_count": 11,
     "metadata": {},
     "output_type": "execute_result"
    },
    {
     "data": {
      "image/png": "[encoded data removed]",
      "text/plain": [
       "<Figure size 432x288 with 1 Axes>"
      ]
     },
     "metadata": {
      "needs_background": "light"
     },
     "output_type": "display_data"
    }
   ],
   "source": [
    "# For the general case (degree 4)\n",
    "p = linalg.solve(BtB, BtY)\n",
    "\n",
    "# Evaluate\n",
    "plot(x, basis.dot(p), 'b')\n",
    "plot(x,y, 'r')\n",
    "legend([\"Approx\", \"Original\"])"
   ]
  },
  {
   "cell_type": "code",
   "execution_count": 12,
   "metadata": {},
   "outputs": [
    {
     "data": {
      "text/plain": [
       "9.362448104579231e-06"
      ]
     },
     "execution_count": 12,
     "metadata": {},
     "output_type": "execute_result"
    }
   ],
   "source": [
    "# This is the error - Average of the distances\n",
    "L = Loss(p, y)/N_data_points\n",
    "L\n",
    "# To improve this, we can choose another basis. For instance, Fourier basis, sigmoid or unit steps\n",
    "# The train the neural network is to minimise the Loss function with a collection of basis\n",
    "# Extreme learning methods: when the training is performed just solving a linear system\n"
   ]
  },
  {
   "cell_type": "markdown",
   "metadata": {},
   "source": [
    "We have for extreme learning methods: \n",
    "\n",
    "$p(x) = \\sum_{i=0}^{d} b_i(x) \\cdot p_i$\n",
    "\n",
    "We have for neural networks:\n",
    "\n",
    "$p(x) = \\sum_{i=0}^{d} b_i(Cx) \\cdot p_i$\n",
    "\n",
    "where we tune C and p in order to get better results. C are coefficients or weights\n",
    "\n",
    "### Loss annotations\n",
    "\n",
    "We can define the loss for an ADAS as the distance of the center of the car to the lane center\n",
    "\n",
    "> **Achtung!** Do not trust in neural networks in ranges where they were not trained to. Example: training a NN with the currency exchange trends for predicting the future. DO NOT DO THAT!"
   ]
  },
  {
   "cell_type": "code",
   "execution_count": 13,
   "metadata": {},
   "outputs": [
    {
     "data": {
      "text/plain": [
       "(1000, 7)"
      ]
     },
     "execution_count": 13,
     "metadata": {},
     "output_type": "execute_result"
    }
   ],
   "source": [
    "basis.shape"
   ]
  },
  {
   "cell_type": "code",
   "execution_count": 15,
   "metadata": {},
   "outputs": [],
   "source": [
    "# You can go further with the degree unless you are far from the final degree. \n",
    "# If that happens, the inversion of the matrix is outbound"
   ]
  },
  {
   "cell_type": "markdown",
   "metadata": {},
   "source": [
    "### Another loss function\n",
    "\n",
    "We originally had:\n",
    "\n",
    "$$\n",
    "\\text{Loss} = \\frac{1}{2N} \\lVert B \\cdot p - Y \\rVert_{l_2}^{2}\n",
    "$$\n",
    "\n",
    "What happens if I want to use the following function as Loss:\n",
    "\n",
    "$$\n",
    "\\text{Loss} = \\frac{1}{2} \\lVert B \\cdot p - f \\rVert_{l_2 ([0,1])}^{2} = \\frac{1}{2} \\int_{0}^{1} (p(x)-f(x))^2 dx\n",
    "$$\n",
    "\n",
    "Now, the integral is continuous in a non-continuous domain. We need to approx the integral:\n",
    "\n",
    "$$\n",
    "\\approx \\frac{1}{2} \\sum_{i=1}^{N} \\frac{1}{N} |p(x_i) - y_i|^2\n",
    "$$\n",
    "\n",
    "This is the same loss function... So, to improve, we can use a better approximation to the integral\n",
    "\n",
    "> Least squares approximation is a projection method which is also named as Integral L2 \n"
   ]
  },
  {
   "cell_type": "code",
   "execution_count": null,
   "metadata": {},
   "outputs": [],
   "source": []
  }
 ],
 "metadata": {
  "kernelspec": {
   "display_name": "Python 3",
   "language": "python",
   "name": "python3"
  },
  "language_info": {
   "codemirror_mode": {
    "name": "ipython",
    "version": 3
   },
   "file_extension": ".py",
   "mimetype": "text/x-python",
   "name": "python",
   "nbconvert_exporter": "python",
   "pygments_lexer": "ipython3",
   "version": "3.6.8"
  }
 },
 "nbformat": 4,
 "nbformat_minor": 2
}
